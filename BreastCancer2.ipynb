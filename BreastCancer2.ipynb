{
  "nbformat": 4,
  "nbformat_minor": 0,
  "metadata": {
    "colab": {
      "name": "Copy of BreastCancer.ipynb",
      "provenance": []
    },
    "kernelspec": {
      "display_name": "Python 3",
      "language": "python",
      "name": "python3"
    },
    "language_info": {
      "codemirror_mode": {
        "name": "ipython",
        "version": 3
      },
      "file_extension": ".py",
      "mimetype": "text/x-python",
      "name": "python",
      "nbconvert_exporter": "python",
      "pygments_lexer": "ipython3",
      "version": "3.7.5"
    }
  },
  "cells": [
    {
      "cell_type": "markdown",
      "metadata": {
        "colab_type": "text",
        "id": "Oex88qd38Thn"
      },
      "source": [
        "[![Open In Colab](https://colab.research.google.com/assets/colab-badge.svg)](\n",
        "https://colab.research.google.com/drive/1XDUpJBDoxnzobD_O2l4hjMDsegVHL5vF)\n",
        "\n",
        "This is from Google Tensorflow introduced by Laurence Moroney. I changed some codes for reading data working with keras. \n",
        "In this first cell we will upload the CSV files that contain the pre-sorted and pre-normalized data. \n",
        "For these I used the Wisconsin breast cancer dataset, sorted it into training and test sets with the 'input' values to the Neural Network as 'X' values, and the expected 'output' (a 0 if benign and a 1 if malignant) as the 'Y' values.\n"
      ]
    },
    {
      "cell_type": "code",
      "metadata": {
        "colab_type": "code",
        "id": "m_NRnXsJzphf",
        "colab": {}
      },
      "source": [
        "import pandas as pd\n",
        "\n",
        "#from google.colab import files\n",
        "#file = files.upload()\n",
        "#X_train = pd.read_csv(\"xtrain.csv\", header=None)\n",
        "#Y_train = pd.read_csv(\"ytrain.csv\", header=None)\n",
        "#X_test = pd.read_csv(\"xtest.csv\", header=None)\n",
        "#Y_test = pd.read_csv(\"ytest.csv\", header=None)\n",
        "X_train = pd.read_csv(r\"C:\\user\\colab\\breast-cancer\\xtrain.csv\", header=None)\n",
        "Y_train = pd.read_csv(r\"C:\\user\\colab\\breast-cancer\\ytrain.csv\", header=None)\n",
        "X_test = pd.read_csv(r\"C:\\user\\colab\\breast-cancer\\xtest.csv\", header=None)\n",
        "Y_test = pd.read_csv(r\"C:\\user\\colab\\breast-cancer\\ytest.csv\", header=None)"
      ],
      "execution_count": 0,
      "outputs": []
    },
    {
      "cell_type": "markdown",
      "metadata": {
        "colab_type": "text",
        "id": "bL4z0BArzqff"
      },
      "source": [
        "Now I'm going to use Keras to define a Neural network that will be trained off of this data. This Neural Network can then be used to predict future values for breast cancer presence. "
      ]
    },
    {
      "cell_type": "code",
      "metadata": {
        "colab_type": "code",
        "id": "LoWtmalR80De",
        "colab": {}
      },
      "source": [
        "from tensorflow.keras.models import Sequential\n",
        "from tensorflow.keras.layers import Dense\n",
        "\n",
        "classifier = Sequential() # Initialising the ANN\n",
        "\n",
        "classifier.add(Dense(units = 16, activation = 'relu', input_dim = 30))\n",
        "classifier.add(Dense(units = 8, activation = 'relu'))\n",
        "classifier.add(Dense(units = 6, activation = 'relu'))\n",
        "classifier.add(Dense(units = 1, activation = 'sigmoid'))"
      ],
      "execution_count": 0,
      "outputs": []
    },
    {
      "cell_type": "markdown",
      "metadata": {
        "colab_type": "text",
        "id": "cJ_MStxe9CbN"
      },
      "source": [
        "Once the Neural Network is defined, I now have to specify is the optimizer and loss function"
      ]
    },
    {
      "cell_type": "code",
      "metadata": {
        "colab_type": "code",
        "id": "wR2O00E39C7E",
        "colab": {}
      },
      "source": [
        "classifier.compile(optimizer = 'rmsprop', loss = 'binary_crossentropy')"
      ],
      "execution_count": 0,
      "outputs": []
    },
    {
      "cell_type": "markdown",
      "metadata": {
        "colab_type": "text",
        "id": "Mn9WPqaP9RmN"
      },
      "source": [
        "You now train the neural network using Classifier.fit, passing it the training data -- i.e. for this set of X, this is what the Y should look like. The NN will then spot the patterns in the data, and build a neural network that could replicate that. "
      ]
    },
    {
      "cell_type": "code",
      "metadata": {
        "colab_type": "code",
        "id": "1QlYnFgH9N49",
        "outputId": "cca1ea2e-7fb6-4e30-9c4b-c367abcffdf2",
        "colab": {
          "base_uri": "https://localhost:8080/",
          "height": 3434
        }
      },
      "source": [
        "classifier.fit(X_train, Y_train, batch_size = 1, epochs = 100)"
      ],
      "execution_count": 0,
      "outputs": [
        {
          "output_type": "stream",
          "text": [
            "WARNING:tensorflow:From C:\\Users\\Dell 3540 2017\\Anaconda3\\lib\\site-packages\\tensorflow\\python\\ops\\math_grad.py:1250: add_dispatch_support.<locals>.wrapper (from tensorflow.python.ops.array_ops) is deprecated and will be removed in a future version.\n",
            "Instructions for updating:\n",
            "Use tf.where in 2.0, which has the same broadcast rule as np.where\n",
            "Train on 455 samples\n",
            "Epoch 1/100\n",
            "455/455 [==============================] - 2s 4ms/sample - loss: 0.3265\n",
            "Epoch 2/100\n",
            "455/455 [==============================] - 1s 1ms/sample - loss: 0.1084\n",
            "Epoch 3/100\n",
            "455/455 [==============================] - 1s 1ms/sample - loss: 0.0882\n",
            "Epoch 4/100\n",
            "455/455 [==============================] - 1s 1ms/sample - loss: 0.0849\n",
            "Epoch 5/100\n",
            "455/455 [==============================] - 1s 1ms/sample - loss: 0.0896\n",
            "Epoch 6/100\n",
            "455/455 [==============================] - 1s 1ms/sample - loss: 0.0825\n",
            "Epoch 7/100\n",
            "455/455 [==============================] - 1s 1ms/sample - loss: 0.0847\n",
            "Epoch 8/100\n",
            "455/455 [==============================] - 1s 1ms/sample - loss: 0.0874\n",
            "Epoch 9/100\n",
            "455/455 [==============================] - 1s 1ms/sample - loss: 0.0783\n",
            "Epoch 10/100\n",
            "455/455 [==============================] - 1s 1ms/sample - loss: 0.0735\n",
            "Epoch 11/100\n",
            "455/455 [==============================] - 1s 1ms/sample - loss: 0.0787\n",
            "Epoch 12/100\n",
            "455/455 [==============================] - 1s 1ms/sample - loss: 0.0698\n",
            "Epoch 13/100\n",
            "455/455 [==============================] - 1s 1ms/sample - loss: 0.0699\n",
            "Epoch 14/100\n",
            "455/455 [==============================] - 1s 1ms/sample - loss: 0.0762\n",
            "Epoch 15/100\n",
            "455/455 [==============================] - 1s 1ms/sample - loss: 0.0689\n",
            "Epoch 16/100\n",
            "455/455 [==============================] - 1s 1ms/sample - loss: 0.0684\n",
            "Epoch 17/100\n",
            "455/455 [==============================] - 1s 1ms/sample - loss: 0.0720\n",
            "Epoch 18/100\n",
            "455/455 [==============================] - 1s 2ms/sample - loss: 0.0660\n",
            "Epoch 19/100\n",
            "455/455 [==============================] - 1s 1ms/sample - loss: 0.0611\n",
            "Epoch 20/100\n",
            "455/455 [==============================] - 1s 1ms/sample - loss: 0.0610\n",
            "Epoch 21/100\n",
            "455/455 [==============================] - 1s 1ms/sample - loss: 0.0671\n",
            "Epoch 22/100\n",
            "455/455 [==============================] - 1s 1ms/sample - loss: 0.0633\n",
            "Epoch 23/100\n",
            "455/455 [==============================] - 1s 1ms/sample - loss: 0.0589\n",
            "Epoch 24/100\n",
            "455/455 [==============================] - 1s 1ms/sample - loss: 0.0613\n",
            "Epoch 25/100\n",
            "455/455 [==============================] - 1s 1ms/sample - loss: 0.0500\n",
            "Epoch 26/100\n",
            "455/455 [==============================] - 1s 1ms/sample - loss: 0.0509\n",
            "Epoch 27/100\n",
            "455/455 [==============================] - 1s 1ms/sample - loss: 0.0490\n",
            "Epoch 28/100\n",
            "455/455 [==============================] - 1s 1ms/sample - loss: 0.0654\n",
            "Epoch 29/100\n",
            "455/455 [==============================] - 1s 1ms/sample - loss: 0.0508\n",
            "Epoch 30/100\n",
            "455/455 [==============================] - 1s 1ms/sample - loss: 0.0509\n",
            "Epoch 31/100\n",
            "455/455 [==============================] - 1s 1ms/sample - loss: 0.0637\n",
            "Epoch 32/100\n",
            "455/455 [==============================] - 1s 1ms/sample - loss: 0.0492\n",
            "Epoch 33/100\n",
            "455/455 [==============================] - 1s 1ms/sample - loss: 0.0460\n",
            "Epoch 34/100\n",
            "455/455 [==============================] - 1s 1ms/sample - loss: 0.0468\n",
            "Epoch 35/100\n",
            "455/455 [==============================] - 1s 1ms/sample - loss: 0.0494\n",
            "Epoch 36/100\n",
            "455/455 [==============================] - 1s 1ms/sample - loss: 0.0584\n",
            "Epoch 37/100\n",
            "455/455 [==============================] - 1s 1ms/sample - loss: 0.0498\n",
            "Epoch 38/100\n",
            "455/455 [==============================] - 1s 1ms/sample - loss: 0.0486\n",
            "Epoch 39/100\n",
            "455/455 [==============================] - 1s 1ms/sample - loss: 0.0509\n",
            "Epoch 40/100\n",
            "455/455 [==============================] - 1s 1ms/sample - loss: 0.0442\n",
            "Epoch 41/100\n",
            "455/455 [==============================] - 1s 1ms/sample - loss: 0.0660\n",
            "Epoch 42/100\n",
            "455/455 [==============================] - 1s 1ms/sample - loss: 0.0476\n",
            "Epoch 43/100\n",
            "455/455 [==============================] - 1s 1ms/sample - loss: 0.0433\n",
            "Epoch 44/100\n",
            "455/455 [==============================] - 1s 1ms/sample - loss: 0.0463\n",
            "Epoch 45/100\n",
            "455/455 [==============================] - 1s 1ms/sample - loss: 0.0380\n",
            "Epoch 46/100\n",
            "455/455 [==============================] - 1s 2ms/sample - loss: 0.0461\n",
            "Epoch 47/100\n",
            "455/455 [==============================] - 1s 2ms/sample - loss: 0.0529\n",
            "Epoch 48/100\n",
            "455/455 [==============================] - 1s 2ms/sample - loss: 0.0382\n",
            "Epoch 49/100\n",
            "455/455 [==============================] - 1s 1ms/sample - loss: 0.0449\n",
            "Epoch 50/100\n",
            "455/455 [==============================] - 1s 1ms/sample - loss: 0.0398\n",
            "Epoch 51/100\n",
            "455/455 [==============================] - 1s 1ms/sample - loss: 0.0418\n",
            "Epoch 52/100\n",
            "455/455 [==============================] - 1s 1ms/sample - loss: 0.0446\n",
            "Epoch 53/100\n",
            "455/455 [==============================] - 1s 1ms/sample - loss: 0.0415\n",
            "Epoch 54/100\n",
            "455/455 [==============================] - 1s 1ms/sample - loss: 0.0361\n",
            "Epoch 55/100\n",
            "455/455 [==============================] - 1s 1ms/sample - loss: 0.0370\n",
            "Epoch 56/100\n",
            "455/455 [==============================] - 1s 1ms/sample - loss: 0.0433\n",
            "Epoch 57/100\n",
            "455/455 [==============================] - 1s 1ms/sample - loss: 0.0351\n",
            "Epoch 58/100\n",
            "455/455 [==============================] - 1s 1ms/sample - loss: 0.0390\n",
            "Epoch 59/100\n",
            "455/455 [==============================] - 1s 1ms/sample - loss: 0.0459\n",
            "Epoch 60/100\n",
            "455/455 [==============================] - 1s 1ms/sample - loss: 0.0389\n",
            "Epoch 61/100\n",
            "455/455 [==============================] - 1s 1ms/sample - loss: 0.0342\n",
            "Epoch 62/100\n",
            "455/455 [==============================] - 1s 1ms/sample - loss: 0.0492\n",
            "Epoch 63/100\n",
            "455/455 [==============================] - 1s 1ms/sample - loss: 0.0349\n",
            "Epoch 64/100\n",
            "455/455 [==============================] - 1s 2ms/sample - loss: 0.0369\n",
            "Epoch 65/100\n",
            "455/455 [==============================] - 1s 1ms/sample - loss: 0.0390\n",
            "Epoch 66/100\n",
            "455/455 [==============================] - 1s 1ms/sample - loss: 0.0296\n",
            "Epoch 67/100\n",
            "455/455 [==============================] - 1s 2ms/sample - loss: 0.0331\n",
            "Epoch 68/100\n",
            "455/455 [==============================] - 1s 1ms/sample - loss: 0.0303\n",
            "Epoch 69/100\n",
            "455/455 [==============================] - 1s 1ms/sample - loss: 0.0357\n",
            "Epoch 70/100\n",
            "455/455 [==============================] - 1s 1ms/sample - loss: 0.0342\n",
            "Epoch 71/100\n",
            "455/455 [==============================] - 1s 1ms/sample - loss: 0.0404\n",
            "Epoch 72/100\n",
            "455/455 [==============================] - 1s 1ms/sample - loss: 0.0312ETA: 0s - loss\n",
            "Epoch 73/100\n",
            "455/455 [==============================] - 1s 1ms/sample - loss: 0.0379\n",
            "Epoch 74/100\n",
            "455/455 [==============================] - 1s 1ms/sample - loss: 0.0339\n",
            "Epoch 75/100\n",
            "455/455 [==============================] - 1s 1ms/sample - loss: 0.0306\n",
            "Epoch 76/100\n",
            "455/455 [==============================] - 1s 1ms/sample - loss: 0.0347\n",
            "Epoch 77/100\n",
            "455/455 [==============================] - 1s 2ms/sample - loss: 0.0348\n",
            "Epoch 78/100\n",
            "455/455 [==============================] - 1s 2ms/sample - loss: 0.0352\n",
            "Epoch 79/100\n",
            "455/455 [==============================] - 1s 1ms/sample - loss: 0.0314\n",
            "Epoch 80/100\n",
            "455/455 [==============================] - 1s 1ms/sample - loss: 0.0337\n",
            "Epoch 81/100\n",
            "455/455 [==============================] - 1s 1ms/sample - loss: 0.0242\n",
            "Epoch 82/100\n",
            "455/455 [==============================] - 1s 1ms/sample - loss: 0.0400\n",
            "Epoch 83/100\n",
            "455/455 [==============================] - 1s 1ms/sample - loss: 0.0211\n",
            "Epoch 84/100\n",
            "455/455 [==============================] - 1s 1ms/sample - loss: 0.0200\n",
            "Epoch 85/100\n",
            "455/455 [==============================] - 1s 1ms/sample - loss: 0.0200\n",
            "Epoch 86/100\n",
            "455/455 [==============================] - 1s 1ms/sample - loss: 0.0144\n",
            "Epoch 87/100\n",
            "455/455 [==============================] - 1s 1ms/sample - loss: 0.0324\n",
            "Epoch 88/100\n",
            "455/455 [==============================] - 1s 1ms/sample - loss: 0.0215\n",
            "Epoch 89/100\n",
            "455/455 [==============================] - 1s 1ms/sample - loss: 0.0318\n",
            "Epoch 90/100\n",
            "455/455 [==============================] - 1s 1ms/sample - loss: 0.0325\n",
            "Epoch 91/100\n",
            "455/455 [==============================] - 1s 1ms/sample - loss: 0.0227\n",
            "Epoch 92/100\n",
            "455/455 [==============================] - 1s 1ms/sample - loss: 0.0189\n",
            "Epoch 93/100\n",
            "455/455 [==============================] - 1s 1ms/sample - loss: 0.0146\n",
            "Epoch 94/100\n",
            "455/455 [==============================] - 1s 1ms/sample - loss: 0.0192\n",
            "Epoch 95/100\n",
            "455/455 [==============================] - 1s 1ms/sample - loss: 0.0101\n",
            "Epoch 96/100\n",
            "455/455 [==============================] - 1s 1ms/sample - loss: 0.0210\n",
            "Epoch 97/100\n",
            "455/455 [==============================] - 1s 1ms/sample - loss: 0.0084\n",
            "Epoch 98/100\n",
            "455/455 [==============================] - 1s 1ms/sample - loss: 0.0169\n",
            "Epoch 99/100\n",
            "455/455 [==============================] - 1s 1ms/sample - loss: 0.0071\n",
            "Epoch 100/100\n",
            "455/455 [==============================] - 1s 1ms/sample - loss: 0.0198\n"
          ],
          "name": "stdout"
        },
        {
          "output_type": "execute_result",
          "data": {
            "text/plain": [
              "<tensorflow.python.keras.callbacks.History at 0x1b98b7cdcc8>"
            ]
          },
          "metadata": {
            "tags": []
          },
          "execution_count": 10
        }
      ]
    },
    {
      "cell_type": "markdown",
      "metadata": {
        "colab_type": "text",
        "id": "yrnGgtfn9gsE"
      },
      "source": [
        "To predict new values, the Neural Network uses classifier.predict. I'm going to pass it the test values for X (which the Neural Network hasn't previously seen) and it will give me back a set of predictions. These predicitons will be probabilities, so I will clean them up by saying that if thye are greater than .5, I'll make them 1, else I'll make them 0."
      ]
    },
    {
      "cell_type": "code",
      "metadata": {
        "colab_type": "code",
        "id": "xEaG0Tkx9fUU",
        "colab": {}
      },
      "source": [
        "Y_pred = classifier.predict(X_test)\n",
        "Y_pred = [ 1 if y>=0.5 else 0 for y in Y_pred ]"
      ],
      "execution_count": 0,
      "outputs": []
    },
    {
      "cell_type": "markdown",
      "metadata": {
        "colab_type": "text",
        "id": "oQK3Qo9h97OW"
      },
      "source": [
        "Now we can loop through the set of predicitons for the test set (called Y_pred) and the actual values for the test set (celled Y_test), and see how alike they are -- if they are the same, I'll increment 'correct', otherwise I'll incrememnt 'wrong'. \n",
        "\n",
        "You'll see the result is 100% accurate, even though the neural network reported a lower accuracy than that. Why? "
      ]
    },
    {
      "cell_type": "code",
      "metadata": {
        "colab_type": "code",
        "id": "he_2VHJ_9yC1",
        "outputId": "5690cf3a-4735-4ff1-c32b-96c1cfefe6f8",
        "colab": {
          "base_uri": "https://localhost:8080/",
          "height": 68
        }
      },
      "source": [
        "total = 0\n",
        "correct = 0\n",
        "wrong = 0\n",
        "for i in Y_pred:\n",
        "  total=total+1\n",
        "  if(Y_test.at[i,0] == Y_pred[i]):\n",
        "    correct=correct+1\n",
        "  else:\n",
        "    wrong=wrong+1\n",
        "\n",
        "print(\"Total \" + str(total))\n",
        "print(\"Correct \" + str(correct))\n",
        "print(\"Wrong \" + str(wrong))"
      ],
      "execution_count": 0,
      "outputs": [
        {
          "output_type": "stream",
          "text": [
            "Total 114\n",
            "Correct 114\n",
            "Wrong 0\n"
          ],
          "name": "stdout"
        }
      ]
    },
    {
      "cell_type": "code",
      "metadata": {
        "id": "xLPbKJBWKdkf",
        "colab_type": "code",
        "colab": {}
      },
      "source": [
        ""
      ],
      "execution_count": 0,
      "outputs": []
    }
  ]
}